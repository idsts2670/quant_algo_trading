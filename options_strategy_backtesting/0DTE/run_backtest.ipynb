{
  "cells": [
    {
      "cell_type": "markdown",
      "metadata": {},
      "source": [
        "# 0DTE Bull Put Spread Backtesting\n",
        "\n",
        "This notebook demonstrates the simplified, object-oriented approach to backtesting 0DTE bull put spread strategies."
      ]
    },
    {
      "cell_type": "markdown",
      "metadata": {},
      "source": [
        "## Setup and Import\n",
        "\n",
        "**Add the parent directory to the path in `sys.path.append('..')` so we can import the backtester package**"
      ]
    },
    {
      "cell_type": "code",
      "execution_count": null,
      "metadata": {},
      "outputs": [],
      "source": [
        "import sys\n",
        "sys.path.append('..')\n",
        "from backtester import ZeroDTEBacktester\n"
      ]
    },
    {
      "cell_type": "markdown",
      "metadata": {},
      "source": [
        "## Basic Usage - Default Parameters\n",
        "\n",
        "The simplest way to run a backtest with default parameters:"
      ]
    },
    {
      "cell_type": "code",
      "execution_count": null,
      "metadata": {},
      "outputs": [],
      "source": [
        "# Create backtester with default parameters\n",
        "backtester = ZeroDTEBacktester()\n",
        "\n",
        "# Run backtest\n",
        "results_df = backtester.run(max_iterations=2000)  # Reduced for demo\n",
        "\n",
        "# Display results\n",
        "print(f\"Executed {len(results_df)} trades\")\n",
        "print(f\"Total P&L: ${results_df['theoretical_pnl'].sum():.2f}\")\n",
        "print(f\"Win Rate: {(results_df['theoretical_pnl'] > 0).mean()*100:.1f}%\")\n"
      ]
    },
    {
      "cell_type": "markdown",
      "metadata": {},
      "source": [
        "## Visualization\n",
        "\n",
        "Built-in plotting functionality:"
      ]
    },
    {
      "cell_type": "code",
      "execution_count": null,
      "metadata": {},
      "outputs": [],
      "source": [
        "# Plot results\n",
        "if not results_df.empty:\n",
        "    backtester.plot_results(results_df)\n",
        "else:\n",
        "    print(\"No results to plot\")\n"
      ]
    }
  ],
  "metadata": {
    "language_info": {
      "name": "python"
    }
  },
  "nbformat": 4,
  "nbformat_minor": 2
}
